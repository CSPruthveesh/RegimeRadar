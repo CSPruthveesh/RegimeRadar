{
  "nbformat": 4,
  "nbformat_minor": 0,
  "metadata": {
    "colab": {
      "provenance": []
    },
    "kernelspec": {
      "name": "python3",
      "display_name": "Python 3"
    },
    "language_info": {
      "name": "python"
    }
  },
  "cells": [
    {
      "cell_type": "code",
      "execution_count": 2,
      "metadata": {
        "id": "OQ79ruD15vv8"
      },
      "outputs": [],
      "source": [
        "import math\n",
        "pi = math.pi\n",
        "def calculate_area(radius):\n",
        "  area = pi * (radius ** 2)\n",
        "  return area"
      ]
    },
    {
      "cell_type": "code",
      "source": [
        "def is_prime(n):\n",
        "  i = 1\n",
        "  c = 0\n",
        "  if n <= 1 :\n",
        "    return False\n",
        "  while i != (n+1):\n",
        "    if n % i == 0:\n",
        "      c += 1\n",
        "    i += 1\n",
        "  if c == 2:\n",
        "    return True\n",
        "  else:\n",
        "    return False\n",
        "\n",
        "\n",
        "is_prime(2)\n",
        ""
      ],
      "metadata": {
        "colab": {
          "base_uri": "https://localhost:8080/"
        },
        "id": "qtlqkrWu6YI7",
        "outputId": "a7738fc1-d539-4500-81e5-2d442e2d194f"
      },
      "execution_count": 18,
      "outputs": [
        {
          "output_type": "execute_result",
          "data": {
            "text/plain": [
              "True"
            ]
          },
          "metadata": {},
          "execution_count": 18
        }
      ]
    },
    {
      "cell_type": "code",
      "source": [
        "A = [x for x in range(1,51)]\n",
        "i = 0\n",
        "c = 0\n",
        "while i != 50:\n",
        "  if is_prime(A[i]) == True:\n",
        "    c += 1\n",
        "  i += 1\n",
        "print(c)"
      ],
      "metadata": {
        "colab": {
          "base_uri": "https://localhost:8080/"
        },
        "id": "2c2Xv3Rf8SD0",
        "outputId": "fd3f46a1-4309-4840-d857-725e6e18f438"
      },
      "execution_count": 31,
      "outputs": [
        {
          "output_type": "stream",
          "name": "stdout",
          "text": [
            "15\n"
          ]
        }
      ]
    },
    {
      "cell_type": "code",
      "source": [
        "squares = [x*x for x in range(1,11)]\n",
        "squares"
      ],
      "metadata": {
        "colab": {
          "base_uri": "https://localhost:8080/"
        },
        "id": "UNYzzREDOXVM",
        "outputId": "68c43a50-35f2-40d9-eacf-22026d6f1937"
      },
      "execution_count": 33,
      "outputs": [
        {
          "output_type": "execute_result",
          "data": {
            "text/plain": [
              "[1, 4, 9, 16, 25, 36, 49, 64, 81, 100]"
            ]
          },
          "metadata": {},
          "execution_count": 33
        }
      ]
    }
  ]
}