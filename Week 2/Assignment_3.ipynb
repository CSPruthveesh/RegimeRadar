{
  "nbformat": 4,
  "nbformat_minor": 0,
  "metadata": {
    "colab": {
      "provenance": []
    },
    "kernelspec": {
      "name": "python3",
      "display_name": "Python 3"
    },
    "language_info": {
      "name": "python"
    }
  },
  "cells": [
    {
      "cell_type": "code",
      "execution_count": 6,
      "metadata": {
        "colab": {
          "base_uri": "https://localhost:8080/"
        },
        "id": "sKZhF7qmOyxm",
        "outputId": "c4e198a5-c0a8-4129-f15c-22ace3e783e4"
      },
      "outputs": [
        {
          "output_type": "stream",
          "name": "stdout",
          "text": [
            "[12 48 40 50 24 26 43 57 53 12 68 12 34 23 55 89 58 50 15 44]\n",
            "Mean : 40.65 \n",
            " Median : 43.5 \n",
            " Stdev : 20.281210516140305\n"
          ]
        }
      ],
      "source": [
        "import numpy as np\n",
        "import random\n",
        "a = []\n",
        "for _ in range(20):\n",
        "  a.append(random.randint(1,100))\n",
        "arr = np.array(a)\n",
        "np.sort(arr)\n",
        "print(arr)\n",
        "print(f\"Mean : {arr.mean()} \\n Median : {np.median(arr)} \\n Stdev : {arr.std()}\")\n"
      ]
    },
    {
      "cell_type": "code",
      "source": [
        "even = arr[arr % 2 == 0]\n",
        "even"
      ],
      "metadata": {
        "colab": {
          "base_uri": "https://localhost:8080/"
        },
        "id": "3wKcF5nyKh0f",
        "outputId": "3cca2a46-c72e-4836-e107-ea01a87fefd5"
      },
      "execution_count": 7,
      "outputs": [
        {
          "output_type": "execute_result",
          "data": {
            "text/plain": [
              "array([12, 48, 40, 50, 24, 26, 12, 68, 12, 34, 58, 50, 44])"
            ]
          },
          "metadata": {},
          "execution_count": 7
        }
      ]
    },
    {
      "cell_type": "code",
      "source": [
        "arr = np.random.randint(1, 100, size=(5, 4))\n",
        "print(arr)\n",
        "print('\\n')\n",
        "sliced_arr = arr[:3, :]\n",
        "print(sliced_arr)"
      ],
      "metadata": {
        "colab": {
          "base_uri": "https://localhost:8080/"
        },
        "id": "KsSmxC16R5gp",
        "outputId": "c1ddb051-aa0a-4faa-91ef-5aae9ca2e26c"
      },
      "execution_count": 18,
      "outputs": [
        {
          "output_type": "stream",
          "name": "stdout",
          "text": [
            "[[ 4 58 75 47]\n",
            " [ 5 67 63 64]\n",
            " [59  8 72 90]\n",
            " [94 82 75 90]\n",
            " [90 63 51 69]]\n",
            "\n",
            "\n",
            "[[ 4 58 75 47]\n",
            " [ 5 67 63 64]\n",
            " [59  8 72 90]]\n"
          ]
        }
      ]
    }
  ]
}